{
 "cells": [
  {
   "cell_type": "code",
   "execution_count": 1,
   "id": "regulated-poison",
   "metadata": {},
   "outputs": [],
   "source": [
    "import numpy as np\n",
    "import pandas as pd\n",
    "import matplotlib.pyplot as plt\n",
    "import sklearn"
   ]
  },
  {
   "cell_type": "markdown",
   "id": "isolated-frame",
   "metadata": {},
   "source": [
    "## 1. Problem Definition\n",
    "\n",
    "For this dataset, the question trying to be solve is:\n",
    ">How well can the future sale price of a bulldozer be predicted, given its characteristics previous examples of how much similar bulldozers have been sold for?"
   ]
  },
  {
   "cell_type": "markdown",
   "id": "contrary-drama",
   "metadata": {},
   "source": [
    "## 2. Data\n",
    "\n",
    "There is a time attribute to this dataset. It's historical sales data of bulldozers. Including model type, size, sale data, etc.\n",
    "\n",
    "There are 3 datasets:\n",
    "\n",
    "    1. Train.csv = Historica bulldozer sales examples up to 2011 (close to 400,000 examples with 50+ different attributes, including SalePrice which is the target variable).\n",
    "    2. Valid.csv = Historical bulldozer sales examples from January 1/2012 to April 30 2012 (close 12,000 examples with the same attributes as Train.csv).\n",
    "    3. Test.csv = Historical bulldozer sales examples from May 1/2012 to November 2012 (close to 12,000 examples but missing the SalePrice attribute, as this is what is being trying to predict)."
   ]
  },
  {
   "cell_type": "markdown",
   "id": "cardiac-supplement",
   "metadata": {},
   "source": [
    "## 3. Evaluation\n",
    "\n",
    "For this problem, Kaggle has set the evaluation metric to being \"Root Mean Squared Log Error\" (RMSLE). As with many regression evaluations, the goal will be to get this value as low as possible. \n",
    "\n",
    "To see how well the model performs, the RMSLE will be calculated and then compared with other participans results on the Kaggle leaderboard. "
   ]
  },
  {
   "cell_type": "markdown",
   "id": "romance-fault",
   "metadata": {},
   "source": [
    "## 4. Features\n",
    "\n"
   ]
  }
 ],
 "metadata": {
  "kernelspec": {
   "display_name": "Python 3",
   "language": "python",
   "name": "python3"
  },
  "language_info": {
   "codemirror_mode": {
    "name": "ipython",
    "version": 3
   },
   "file_extension": ".py",
   "mimetype": "text/x-python",
   "name": "python",
   "nbconvert_exporter": "python",
   "pygments_lexer": "ipython3",
   "version": "3.8.8"
  }
 },
 "nbformat": 4,
 "nbformat_minor": 5
}
